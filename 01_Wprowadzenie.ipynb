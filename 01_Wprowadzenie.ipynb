{
 "cells": [
  {
   "cell_type": "markdown",
   "metadata": {
    "slideshow": {
     "slide_type": "slide"
    }
   },
   "source": [
    "# Python i notatnik Jupyter\n",
    "\n",
    "* uruchamianie i obsługa notatnika\n",
    "* komórki kodu Python i komórki z notatkami Markdown\n",
    "* podstawy języka Python: zmienne, typy, wczytywanie, wypisywanie wartosci, instrukcje sterujące, podstawowe typy złożne, funkcje \n",
    "***\n",
    "\n"
   ]
  },
  {
   "cell_type": "markdown",
   "metadata": {
    "slideshow": {
     "slide_type": "slide"
    }
   },
   "source": [
    "## Notatnik Jupyter - przydatne skróty klawiszowe\n",
    "\n",
    "### Tryby pracy:\n",
    "\n",
    "* `Enter` tryb **edycji komórki**. Edycja kodu lub tekstu Markdown.\n",
    "* `Ecs`  tryb **komend** (wyjście z trybu edycji). Daje możliwość zaznaczania i manipulacji na komórkach, np. usuwanie, przemieszczanie, tworzenie nowych komórek.\n",
    "\n",
    "### Uruchamianie komórek\n",
    "\n",
    "- `Ctrl` + `Enter` uruchamia komórkę\n",
    "- `Shift` + `Enter` uruchamia komórkę i przechodzi do nastepnej"
   ]
  },
  {
   "cell_type": "markdown",
   "metadata": {
    "slideshow": {
     "slide_type": "slide"
    }
   },
   "source": [
    "### **Ćwiczenie**\n",
    "\n",
    "Jaki jest wynik poniższej operacji?"
   ]
  },
  {
   "cell_type": "code",
   "execution_count": null,
   "metadata": {
    "ExecuteTime": {
     "end_time": "2022-03-07T13:40:32.718429Z",
     "start_time": "2022-03-07T13:40:32.714190Z"
    },
    "scrolled": true
   },
   "outputs": [],
   "source": [
    "2 + 2"
   ]
  },
  {
   "cell_type": "code",
   "execution_count": null,
   "metadata": {
    "ExecuteTime": {
     "end_time": "2022-03-07T13:40:29.510420Z",
     "start_time": "2022-03-07T13:40:29.506117Z"
    },
    "scrolled": true
   },
   "outputs": [],
   "source": [
    "print('Witaj Świecie')"
   ]
  },
  {
   "cell_type": "markdown",
   "metadata": {
    "slideshow": {
     "slide_type": "slide"
    }
   },
   "source": [
    "### Skróty klawiszowe\n",
    "\n",
    "\n",
    "#### W trybie komend\n",
    "\n",
    "- `A` wstawia nową komórkę powyżej\n",
    "- `B` wstawia nową komórkę poniżej\n",
    "- `M` zamienia typ komórki na komórkę Markdown\n",
    "- `Y` zamienia typ komórki na komórkę z kodem\n",
    "- `D` `D` usuwa aktualną komórkę\n",
    "- `Shift` + `Down` zaznacz następną komórkę\n",
    "- `Shift` + `Up` zaznacz poprzednią komórkę\n",
    "- `Shift` + `M` scal zaznaczone komórki\n",
    "\n",
    "#### W trybie edycji\n",
    "\n",
    "- `Ctrl` + `Shift` + `-` dzieli komórkę w miejscu kursora\n",
    "- `Esc` + `F` znajdź i zamień fragment kodu (nie uwzględnia wyników działania)\n",
    "- `Esc` + `O` włącz/wyłącz podgląd wyniku komórki"
   ]
  },
  {
   "cell_type": "markdown",
   "metadata": {
    "heading_collapsed": true,
    "slideshow": {
     "slide_type": "slide"
    }
   },
   "source": [
    "## Pomoc\n",
    "\n",
    "- `Shift` + `Tab` dokumentacja funkcji wskazanej kursorem\n",
    "- `Tab` dopełnianie składni"
   ]
  },
  {
   "cell_type": "markdown",
   "metadata": {
    "slideshow": {
     "slide_type": "-"
    }
   },
   "source": [
    "## Przydatne adresy\n",
    "- Project website: <http://jupyter.org>\n",
    "- Ściąga <https://www.edureka.co/blog/wp-content/uploads/2018/10/Jupyter_Notebook_CheatSheet_Edureka.pdf>\n",
    "- Dokumentacja: <https://jupyter.readthedocs.io/en/latest/index.html>\n",
    "- Jupyter tutorial: <https://www.datacamp.com/community/tutorials/tutorial-jupyter-notebook#gs.FvQnWPo>"
   ]
  },
  {
   "cell_type": "markdown",
   "metadata": {
    "slideshow": {
     "slide_type": "slide"
    }
   },
   "source": [
    "# Składnia Markdown \n",
    "\n",
    "Tutaj ściąga: https://github.com/adam-p/markdown-here/wiki/Markdown-Cheatsheet\n",
    "\n",
    "## Nagłowki\n",
    "\n",
    "# Nagłowek 1 \n",
    "## Nagłowek 2 \n",
    "### Nagłowek 3 \n",
    "#### Nagłowek 4 \n",
    "##### Nagłowek 5\n",
    "\n",
    "### Tekst\n",
    "\n",
    "Normalny tekst, **pogrubiony** lub __pogrubiony__, lub *kursywa* albo _kursywa_.\n",
    "\n",
    "Akapity oddzielone pustą linią"
   ]
  },
  {
   "cell_type": "markdown",
   "metadata": {
    "slideshow": {
     "slide_type": "slide"
    }
   },
   "source": [
    "### Listy\n",
    "\n",
    "Lista wypunktowana\n",
    "* element 1\n",
    "* element 2\n",
    "\n",
    "Lista numerowana:\n",
    "1. Lists can also be numbered.\n",
    "2. For ordered lists."
   ]
  },
  {
   "cell_type": "markdown",
   "metadata": {
    "slideshow": {
     "slide_type": "slide"
    }
   },
   "source": [
    "### Linki\n",
    "\n",
    "[Adres odnośnika](https://www.dataquest.io/blog/jupyter-notebook-tutorial/)\n",
    "\n",
    "### Fragmenty kodu \n",
    "\n",
    "Kod umieszczone w tekście `foo()` lub w osobnym bloku, w taki sposób:\n",
    "```python\n",
    "print('Witaj świecie')\n",
    "```\n",
    "\n",
    "lub w taki (tekst nieformatowny)\n",
    "\n",
    "    print('Witaj świecie')"
   ]
  },
  {
   "cell_type": "markdown",
   "metadata": {
    "slideshow": {
     "slide_type": "slide"
    }
   },
   "source": [
    "### Obrazy\n",
    "\n",
    "![Python logo](https://www.python.org/static/community_logos/python-logo-master-v3-TM.png)\n",
    "\n",
    "### Wzory w formacie $\\LaTeX$\n",
    "\n",
    "Wzór  $ \\frac{\\int^\\infty_0{x}dx}{2} $ otoczony tekstem i wzór wyśrodkowany\n",
    "\n",
    "$$ \\frac{\\int^\\infty_0{x}dx}{2} $$"
   ]
  },
  {
   "cell_type": "markdown",
   "metadata": {
    "slideshow": {
     "slide_type": "slide"
    }
   },
   "source": [
    "### Tabelka \n",
    "\n",
    "\n",
    "| Nagłowek    | tabeli      |  kolumna 3 |\n",
    "|-------------|:------------:|-----:|\n",
    "| kolumna 1   | justowana do lewej | \\$1600 |\n",
    "| kulumna 2   | wyśrodkowana       |  \\$ 12 |\n",
    "| kolumna 3   | justowana do prawej | \\$1600 |\n",
    "| A | B | C |\n"
   ]
  },
  {
   "cell_type": "markdown",
   "metadata": {
    "slideshow": {
     "slide_type": "slide"
    }
   },
   "source": [
    "Podstawy Pythona\n",
    "==============="
   ]
  },
  {
   "cell_type": "code",
   "execution_count": null,
   "metadata": {
    "scrolled": true
   },
   "outputs": [],
   "source": [
    "print('Witaj świecie')"
   ]
  },
  {
   "cell_type": "markdown",
   "metadata": {
    "slideshow": {
     "slide_type": "slide"
    }
   },
   "source": [
    "## Zmienne i typy\n",
    "\n",
    "Typy danych w Python: https://www.w3schools.com/python/python_datatypes.asp"
   ]
  },
  {
   "cell_type": "code",
   "execution_count": null,
   "metadata": {
    "ExecuteTime": {
     "end_time": "2022-03-07T16:22:23.162530Z",
     "start_time": "2022-03-07T16:22:23.153490Z"
    },
    "scrolled": true
   },
   "outputs": [],
   "source": [
    "# integer, typ calkowity  (to co zaczyna sie od # jest kmentarzem)\n",
    "\n",
    "x = 42\n",
    "print(x, type(x))\n",
    "\n",
    "# typ Boolowski\n",
    "x = True\n",
    "print(x, type(x))\n",
    "\n",
    "# float\n",
    "x = 3.14\n",
    "print(x, type(x))\n",
    "\n",
    "# rzutowanie typu\n",
    "y = int(x)\n",
    "print(y, type(y))"
   ]
  },
  {
   "cell_type": "code",
   "execution_count": null,
   "metadata": {
    "ExecuteTime": {
     "end_time": "2022-03-07T15:19:02.340266Z",
     "start_time": "2022-03-07T15:19:02.331985Z"
    },
    "scrolled": true,
    "slideshow": {
     "slide_type": "slide"
    }
   },
   "outputs": [],
   "source": [
    "# napis\n",
    "s = 'Hello'\n",
    "print(s, type(s))\n",
    "\n",
    "# operacje na zmienneych \n",
    "x = x + 1\n",
    "print('x=', x)\n",
    "\n",
    "# łączenie napisów\n",
    "s = s + ' world ' + str(x) \n",
    "print('Połaczony napis: ', s)\n",
    "\n",
    "print('Długość napisu: ', len(s))"
   ]
  },
  {
   "cell_type": "code",
   "execution_count": null,
   "metadata": {
    "ExecuteTime": {
     "end_time": "2022-03-07T15:21:47.326268Z",
     "start_time": "2022-03-07T15:21:47.320948Z"
    },
    "scrolled": true,
    "slideshow": {
     "slide_type": "slide"
    }
   },
   "outputs": [],
   "source": [
    "# lista pól i metod obiektu\n",
    "dir(s)"
   ]
  },
  {
   "cell_type": "code",
   "execution_count": null,
   "metadata": {
    "ExecuteTime": {
     "end_time": "2022-03-07T15:24:13.291470Z",
     "start_time": "2022-03-07T15:24:13.288192Z"
    },
    "slideshow": {
     "slide_type": "slide"
    }
   },
   "outputs": [],
   "source": [
    "# dokunetacja (Shift+Tab)\n",
    "help(s.count)"
   ]
  },
  {
   "cell_type": "code",
   "execution_count": null,
   "metadata": {
    "ExecuteTime": {
     "end_time": "2022-03-07T15:25:03.232502Z",
     "start_time": "2022-03-07T15:25:03.225866Z"
    },
    "scrolled": true
   },
   "outputs": [],
   "source": [
    "s.count?"
   ]
  },
  {
   "cell_type": "code",
   "execution_count": null,
   "metadata": {
    "ExecuteTime": {
     "end_time": "2022-03-07T15:25:12.805772Z",
     "start_time": "2022-03-07T15:25:12.802014Z"
    },
    "scrolled": true,
    "slideshow": {
     "slide_type": "-"
    }
   },
   "outputs": [],
   "source": [
    "print(s)\n",
    "print(s.count('l'))"
   ]
  },
  {
   "cell_type": "markdown",
   "metadata": {
    "slideshow": {
     "slide_type": "slide"
    }
   },
   "source": [
    "## Operatory arytmetyczne\n",
    "\n",
    "Lista operatorów: https://www.w3schools.com/python/python_operators.asp"
   ]
  },
  {
   "cell_type": "code",
   "execution_count": null,
   "metadata": {
    "ExecuteTime": {
     "end_time": "2022-03-07T15:25:44.562097Z",
     "start_time": "2022-03-07T15:25:44.546646Z"
    },
    "scrolled": true
   },
   "outputs": [],
   "source": [
    "# operatory arytmetyczne i realzacji takie jak w C\n",
    "x = 3       # przypisanie\n",
    "x = x + 1   # dodawnanei\n",
    "print(x)\n",
    "\n",
    "x += 3  \n",
    "print(x)\n",
    "\n",
    "x = 1 / 3   # dzielenie \n",
    "print(x)\n",
    "\n",
    "x = 7 // 3  # dzielenie całkowite \n",
    "print(x)\n",
    "\n",
    "x = 7 % 3   # modulo, reszta z dzielenia\n",
    "print(x)\n",
    "\n",
    "x = 2 ** 10   # potęgowanie\n",
    "print(x)"
   ]
  },
  {
   "cell_type": "markdown",
   "metadata": {
    "slideshow": {
     "slide_type": "slide"
    }
   },
   "source": [
    "***\n",
    "\n",
    "### **Ćwiczenie**\n",
    "\n",
    "Ile wynosi reszta z dzielenia 123456 przez 13 ?"
   ]
  },
  {
   "cell_type": "code",
   "execution_count": null,
   "metadata": {
    "scrolled": true
   },
   "outputs": [],
   "source": []
  },
  {
   "cell_type": "markdown",
   "metadata": {
    "slideshow": {
     "slide_type": "slide"
    }
   },
   "source": [
    "## Wyświetlanie wartości. Funkcja print()"
   ]
  },
  {
   "cell_type": "code",
   "execution_count": null,
   "metadata": {
    "ExecuteTime": {
     "end_time": "2022-03-07T15:31:05.424371Z",
     "start_time": "2022-03-07T15:31:05.416649Z"
    }
   },
   "outputs": [],
   "source": [
    "# wyświetlanie liczb\n",
    "x = 3.14\n",
    "k = 42\n",
    "print('liczba x=' + str(x) + ', k=' + str(k))\n",
    "\n",
    "# formatowanie zgodne z funkcją printf() z języka C\n",
    "print('liczba k=%d' % k)\n",
    "\n",
    "print('liczba x=%.2f,  k=%d' % (x, k))    # (x, k) to krotka (ang. tuple)\n",
    "\n",
    "print('42 dziesietnie  to %d' % 42)\n",
    "print('42 osemkowo     to %o' % 42)\n",
    "print('42 szesnastkowo to %x' % 42)\n",
    "print('42 to znak         %c' % 42)"
   ]
  },
  {
   "cell_type": "markdown",
   "metadata": {},
   "source": [
    "f-string dla python >= 3.6"
   ]
  },
  {
   "cell_type": "code",
   "execution_count": null,
   "metadata": {
    "ExecuteTime": {
     "end_time": "2022-03-07T15:34:44.485417Z",
     "start_time": "2022-03-07T15:34:44.481858Z"
    },
    "scrolled": true
   },
   "outputs": [],
   "source": [
    "print(f'liczba x={x},  k={k}')    "
   ]
  },
  {
   "cell_type": "markdown",
   "metadata": {
    "slideshow": {
     "slide_type": "slide"
    }
   },
   "source": [
    "***\n",
    "## Operatory relacji i operatory logiczne"
   ]
  },
  {
   "cell_type": "code",
   "execution_count": null,
   "metadata": {
    "ExecuteTime": {
     "end_time": "2022-03-07T15:35:52.214522Z",
     "start_time": "2022-03-07T15:35:52.210008Z"
    },
    "scrolled": false
   },
   "outputs": [],
   "source": [
    "# operatory relacji: ==, !=, <, >, <=, >=\n",
    "\n",
    "x = 42\n",
    "print(x == 42)   #  wypisze True\n",
    "print(x != 42)   # wypisze False\n",
    "print(x == 13)   # wypisze False\n",
    "print(x < 100)   # wypisze True"
   ]
  },
  {
   "cell_type": "code",
   "execution_count": null,
   "metadata": {
    "ExecuteTime": {
     "end_time": "2022-03-07T15:36:11.754293Z",
     "start_time": "2022-03-07T15:36:11.747014Z"
    },
    "scrolled": true
   },
   "outputs": [],
   "source": [
    "# operatory logiczne: not, and, or\n",
    "\n",
    "x = 42\n",
    "\n",
    "print(x < 100 and x > 40)   #  wypisze True\n",
    "print(x != 42 or True )     # wypisze True\n",
    "print(not False)            # wypisze True\n",
    "print(not 2 > 100)"
   ]
  },
  {
   "cell_type": "markdown",
   "metadata": {
    "slideshow": {
     "slide_type": "slide"
    }
   },
   "source": [
    "## Instrukcje sterujące\n",
    "### Instrukcja warunkowa if"
   ]
  },
  {
   "cell_type": "code",
   "execution_count": null,
   "metadata": {
    "ExecuteTime": {
     "end_time": "2022-03-07T15:37:23.372486Z",
     "start_time": "2022-03-07T15:37:15.074731Z"
    },
    "scrolled": true
   },
   "outputs": [],
   "source": [
    "# funkcja input() pobiera dane z terminala\n",
    "# float() zmienia na double\n",
    "x = float(input('Podaj liczbe'))\n",
    "\n",
    "if x > 0:\n",
    "    print('Liczba %f jest dodatnia' % x)"
   ]
  },
  {
   "cell_type": "code",
   "execution_count": null,
   "metadata": {
    "ExecuteTime": {
     "end_time": "2022-03-07T15:37:34.779710Z",
     "start_time": "2022-03-07T15:37:30.172222Z"
    },
    "scrolled": true
   },
   "outputs": [],
   "source": [
    "x = float(input('Podaj liczbe'))\n",
    "\n",
    "if x >= 0:\n",
    "    print('Liczba %f jest dodatnia' % x)\n",
    "else:\n",
    "    print('Liczba %f jest ujemna' % x)\n",
    "    "
   ]
  },
  {
   "cell_type": "code",
   "execution_count": null,
   "metadata": {
    "scrolled": true
   },
   "outputs": [],
   "source": [
    "x = 42\n",
    "if x > 5 and x < 10 :\n",
    "    print('x w zakresie od 5 do 10')\n",
    "elif x > 10:\n",
    "    print('x jest większy od 10')\n",
    "else:\n",
    "    print('Nie ok')"
   ]
  },
  {
   "cell_type": "markdown",
   "metadata": {
    "slideshow": {
     "slide_type": "slide"
    }
   },
   "source": [
    "### **Ćwiczenie**\n",
    "\n",
    "Napisz program, który sprawdzi czy podana licza jest parzysata.\n"
   ]
  },
  {
   "cell_type": "code",
   "execution_count": null,
   "metadata": {
    "scrolled": true
   },
   "outputs": [],
   "source": []
  },
  {
   "cell_type": "markdown",
   "metadata": {
    "slideshow": {
     "slide_type": "slide"
    }
   },
   "source": [
    "### Pętle: while, for"
   ]
  },
  {
   "cell_type": "code",
   "execution_count": null,
   "metadata": {
    "ExecuteTime": {
     "end_time": "2022-03-07T15:40:07.825070Z",
     "start_time": "2022-03-07T15:40:07.819895Z"
    },
    "scrolled": true
   },
   "outputs": [],
   "source": [
    "x = 10\n",
    "while x > 0:\n",
    "    x = x -1\n",
    "    print(x)"
   ]
  },
  {
   "cell_type": "code",
   "execution_count": null,
   "metadata": {
    "ExecuteTime": {
     "end_time": "2022-03-07T15:41:43.554498Z",
     "start_time": "2022-03-07T15:41:43.549729Z"
    },
    "scrolled": true
   },
   "outputs": [],
   "source": [
    "for i in ('a', 3.13, 3, 'Ala ma kota'):\n",
    "    print(i)"
   ]
  },
  {
   "cell_type": "code",
   "execution_count": null,
   "metadata": {
    "ExecuteTime": {
     "end_time": "2022-03-07T15:42:19.617057Z",
     "start_time": "2022-03-07T15:42:19.613317Z"
    },
    "scrolled": true
   },
   "outputs": [],
   "source": [
    "for i in range(5):\n",
    "    print(i)"
   ]
  },
  {
   "cell_type": "markdown",
   "metadata": {
    "slideshow": {
     "slide_type": "slide"
    }
   },
   "source": [
    "### **Ćwiczenie**\n",
    "\n",
    "Napisz program, który dla podanej liczby całkowitej $n$ wyznaczy sumę wszystkich liczb całkowitych od 1 do $n$.   \n",
    "\n",
    "Rozwiązanie z użyciem pętli `while` \n",
    "\n",
    "\n"
   ]
  },
  {
   "cell_type": "code",
   "execution_count": null,
   "metadata": {
    "scrolled": true
   },
   "outputs": [],
   "source": [
    "\n",
    "\n",
    "\n",
    "\n",
    "\n"
   ]
  },
  {
   "cell_type": "markdown",
   "metadata": {},
   "source": [
    "Rozwiązania z użyciem pętli `for`"
   ]
  },
  {
   "cell_type": "code",
   "execution_count": null,
   "metadata": {
    "scrolled": true
   },
   "outputs": [],
   "source": [
    "\n",
    "\n",
    "\n",
    "\n",
    "\n"
   ]
  },
  {
   "cell_type": "markdown",
   "metadata": {
    "slideshow": {
     "slide_type": "slide"
    }
   },
   "source": [
    "## Instrukcje brak i continue"
   ]
  },
  {
   "cell_type": "code",
   "execution_count": null,
   "metadata": {
    "ExecuteTime": {
     "end_time": "2022-03-07T15:43:21.652605Z",
     "start_time": "2022-03-07T15:43:21.646509Z"
    },
    "scrolled": true,
    "slideshow": {
     "slide_type": "-"
    }
   },
   "outputs": [],
   "source": [
    "# Instrukcja break\n",
    "\n",
    "licznik = 0\n",
    "while True:\n",
    "    print(licznik)\n",
    "    licznik += 1\n",
    "    if licznik >= 5:\n",
    "        break      # przerwanie petli\n"
   ]
  },
  {
   "cell_type": "code",
   "execution_count": null,
   "metadata": {
    "ExecuteTime": {
     "end_time": "2022-03-07T15:43:41.210606Z",
     "start_time": "2022-03-07T15:43:41.206073Z"
    },
    "scrolled": false
   },
   "outputs": [],
   "source": [
    "#Instrukcja continue\n",
    "\n",
    "for x in range(10):   \n",
    "    if x % 2 == 0:\n",
    "        continue   # pominiecie kroku \n",
    "    print(x)\n"
   ]
  },
  {
   "cell_type": "markdown",
   "metadata": {
    "slideshow": {
     "slide_type": "slide"
    }
   },
   "source": [
    "## Krotki, listy i słowniki"
   ]
  },
  {
   "cell_type": "markdown",
   "metadata": {},
   "source": [
    "**krotka** (tuple) - kolekcja elementów, której nie można modyfikować"
   ]
  },
  {
   "cell_type": "code",
   "execution_count": null,
   "metadata": {
    "ExecuteTime": {
     "end_time": "2022-03-07T15:45:14.913026Z",
     "start_time": "2022-03-07T15:45:14.904844Z"
    },
    "scrolled": true
   },
   "outputs": [],
   "source": [
    "b = ( 1, 'a', 'helo')\n",
    "\n",
    "print('b=', b)\n",
    "\n",
    "print('b[0]=', b[0])    # pierwszy element, indeksowane od 0\n",
    "\n",
    "print('%c %d %x %o' % (42, 42, 42, 42))"
   ]
  },
  {
   "cell_type": "markdown",
   "metadata": {
    "slideshow": {
     "slide_type": "slide"
    }
   },
   "source": [
    "### Listy"
   ]
  },
  {
   "cell_type": "code",
   "execution_count": null,
   "metadata": {
    "ExecuteTime": {
     "end_time": "2022-03-07T17:03:19.114481Z",
     "start_time": "2022-03-07T17:03:19.107501Z"
    },
    "scrolled": true,
    "slideshow": {
     "slide_type": "-"
    }
   },
   "outputs": [],
   "source": [
    "# lista (tablica o zmiennym rozmiarze, struktura wektor)\n",
    "\n",
    "a = [1, 2, 3, 5]\n",
    "\n",
    "print('Lista a=', a)\n",
    "print('Element a[0]=', a[0])\n",
    "\n",
    "# iterowanie po elementach listy\n",
    "for i in a:\n",
    "    print(i)\n",
    "    \n",
    "for i, x in enumerate(a):\n",
    "    print(i, x)"
   ]
  },
  {
   "cell_type": "code",
   "execution_count": null,
   "metadata": {
    "ExecuteTime": {
     "end_time": "2022-03-07T17:03:44.162492Z",
     "start_time": "2022-03-07T17:03:44.156907Z"
    },
    "scrolled": true,
    "slideshow": {
     "slide_type": "slide"
    }
   },
   "outputs": [],
   "source": [
    "# lista \n",
    "a = [ 5, 3, 2, -4, 12]\n",
    "\n",
    "a.reverse()    # odwracanie\n",
    "print(a)\n",
    "\n",
    "a.sort()       # sortowanie\n",
    "print(a)\n",
    "\n",
    "a.append(3)    # dodawanie elementu na końcu\n",
    "print(a)\n",
    "\n",
    "del a[0]      # usuwanie elementu\n",
    "print(a)"
   ]
  },
  {
   "cell_type": "code",
   "execution_count": null,
   "metadata": {
    "ExecuteTime": {
     "end_time": "2022-03-07T17:05:16.834508Z",
     "start_time": "2022-03-07T17:05:16.826461Z"
    },
    "scrolled": true,
    "slideshow": {
     "slide_type": "slide"
    }
   },
   "outputs": [],
   "source": [
    "a = []    # pusta lista\n",
    "\n",
    "print('Zawartosc listy', a)\n",
    "print('Dlugosc listy = ', len(a))\n",
    "\n",
    "for i in range(5):\n",
    "    a.append(i**2)\n",
    "\n",
    "print('Zawartosc listy', a)\n",
    "print('Dlugosc listy = ', len(a))\n",
    "\n",
    "print('Czy zawiera wartość 42 ?', 42 in a)"
   ]
  },
  {
   "cell_type": "code",
   "execution_count": null,
   "metadata": {
    "ExecuteTime": {
     "end_time": "2022-03-07T15:50:16.425306Z",
     "start_time": "2022-03-07T15:50:16.419953Z"
    },
    "scrolled": true,
    "slideshow": {
     "slide_type": "slide"
    }
   },
   "outputs": [],
   "source": [
    "# indeksowanie list\n",
    "a = [ 5, 3, 1,6 ,3]\n",
    "\n",
    "print(a[0])             # pierwszy element\n",
    "print(a[-1])            # ostatni element\n",
    "print(a[1:3])           # element od 1 do 2  (bez elementu 3!)\n",
    "print(a[2:])            # element od 2 do końca"
   ]
  },
  {
   "cell_type": "code",
   "execution_count": null,
   "metadata": {
    "ExecuteTime": {
     "end_time": "2022-03-07T15:49:07.186018Z",
     "start_time": "2022-03-07T15:49:07.179128Z"
    },
    "scrolled": true,
    "slideshow": {
     "slide_type": "slide"
    }
   },
   "outputs": [],
   "source": [
    "# lista zawierająca listy \n",
    "a= [[ 1, 2 ,3 ], [4, 5, 6, 7 ]]\n",
    "\n",
    "print(len(a))\n",
    "print(a[0])      # pierwszy wiersz\n",
    "print(a[1][2])    "
   ]
  },
  {
   "cell_type": "markdown",
   "metadata": {
    "slideshow": {
     "slide_type": "slide"
    }
   },
   "source": [
    "### Słownik {klucz: wartość}"
   ]
  },
  {
   "cell_type": "code",
   "execution_count": null,
   "metadata": {
    "ExecuteTime": {
     "end_time": "2022-03-07T17:06:58.530814Z",
     "start_time": "2022-03-07T17:06:58.520595Z"
    }
   },
   "outputs": [],
   "source": [
    "# słownik { 'klucz1' : wartość1, 'klucz2': wartość2, ...}\n",
    "s = { 'Ala' : 'ma kota', 'Ewa' : 'ma psa'}\n",
    "\n",
    "print(s['Ala'])    \n",
    "\n",
    "s['Janek']='lubi Pythona'    # nowy element słownika\n",
    "\n",
    "for k in s:\n",
    "    print(k, s[k])\n",
    "    \n",
    "print(s.keys())      # lista kluczy\n",
    "print(s.values())    # lista wartości\n",
    "print(len(s))        # ilośc elementów\n",
    "\n",
    "print('Ala' in s)    # czy klucz 'ala' jest w słowniku?\n",
    "print('Zosia' in s)  # czy 'zosia' jest w słowniku?"
   ]
  },
  {
   "cell_type": "markdown",
   "metadata": {
    "slideshow": {
     "slide_type": "slide"
    }
   },
   "source": [
    "## Pliki\n",
    "\n",
    "Operacje na plikach: https://www.w3schools.com/python/python_file_handling.asp\n",
    "\n",
    "W ćwiczeniach wykorzystano plik [liczby.txt](http://www.is.umk.pl/~grochu/wdm/files/liczby.txt), który zawiera liczby całkowite odzielone przecinkiem w takiej postaci\n",
    "```\n",
    "1,2,3,4,5,6\n",
    "11,22,33,44,55,66\n",
    "42,32,32,1\n",
    "```\n",
    "Plik znajduje się w podkatalogu ``dane`` w repozytorium GitHub lub mozna go pobrać tutaj [http://www.is.umk.pl/~grochu/wdm/files/liczby.txt](http://www.is.umk.pl/~grochu/wdm/files/liczby.txt)\n"
   ]
  },
  {
   "cell_type": "code",
   "execution_count": null,
   "metadata": {
    "ExecuteTime": {
     "end_time": "2022-03-07T17:09:54.459145Z",
     "start_time": "2022-03-07T17:09:54.285483Z"
    }
   },
   "outputs": [],
   "source": [
    "#  Pobranie pliku (uwaga: działa tylko, gdy w systemie zainstalowany jest wget)\n",
    "!wget http://www.is.umk.pl/~grochu/wdm/files/liczby.txt"
   ]
  },
  {
   "cell_type": "markdown",
   "metadata": {
    "slideshow": {
     "slide_type": "slide"
    }
   },
   "source": [
    "### Operacja odczytu"
   ]
  },
  {
   "cell_type": "code",
   "execution_count": null,
   "metadata": {
    "ExecuteTime": {
     "end_time": "2022-03-07T17:18:07.921951Z",
     "start_time": "2022-03-07T17:18:07.915953Z"
    },
    "slideshow": {
     "slide_type": "-"
    }
   },
   "outputs": [],
   "source": [
    "# Odczyt całego pliku w postaci napisu\n",
    "plik = open(\"dane/liczby.txt\", 'r')\n",
    "dane = plik.read()\n",
    "plik.close()\n",
    "\n",
    "print(dane)\n",
    "print(type(dane), len(dane))"
   ]
  },
  {
   "cell_type": "markdown",
   "metadata": {
    "ExecuteTime": {
     "end_time": "2022-03-07T17:10:50.153544Z",
     "start_time": "2022-03-07T17:10:50.148799Z"
    },
    "slideshow": {
     "slide_type": "slide"
    }
   },
   "source": [
    "### Odczyt pliku linia po linii"
   ]
  },
  {
   "cell_type": "code",
   "execution_count": null,
   "metadata": {
    "ExecuteTime": {
     "end_time": "2022-03-07T17:18:46.354304Z",
     "start_time": "2022-03-07T17:18:46.346883Z"
    },
    "slideshow": {
     "slide_type": "-"
    }
   },
   "outputs": [],
   "source": [
    "\n",
    "plik = open('dane/liczby.txt', 'r')\n",
    "i = 1\n",
    "\n",
    "for linia in plik:\n",
    "    print(\"linia %d: %s\" % (i, linia))\n",
    "    i = i + 1\n",
    "plik.close()    "
   ]
  },
  {
   "cell_type": "code",
   "execution_count": null,
   "metadata": {
    "ExecuteTime": {
     "end_time": "2022-03-07T17:20:24.857777Z",
     "start_time": "2022-03-07T17:20:24.846507Z"
    },
    "slideshow": {
     "slide_type": "slide"
    }
   },
   "outputs": [],
   "source": [
    "# Odczyt pliku linia po linii z wyodrębnianiem elementów\n",
    "\n",
    "plik = open('dane/liczby.txt', 'r')\n",
    "\n",
    "liczby = []\n",
    "for linia in plik:\n",
    "    elementy = linia.split(',')     # split() dzieli napis wzgledem separatora\n",
    "    for e in elementy:\n",
    "        liczby.append(float(e))    # zamiana str na float\n",
    "plik.close()    \n",
    "\n",
    "print('Suma = %f' % sum(liczby))"
   ]
  },
  {
   "cell_type": "markdown",
   "metadata": {
    "slideshow": {
     "slide_type": "slide"
    }
   },
   "source": [
    "### Zapis"
   ]
  },
  {
   "cell_type": "code",
   "execution_count": null,
   "metadata": {
    "ExecuteTime": {
     "end_time": "2022-03-07T17:21:01.655318Z",
     "start_time": "2022-03-07T17:21:01.535141Z"
    },
    "slideshow": {
     "slide_type": "-"
    }
   },
   "outputs": [],
   "source": [
    "# Zapis do pliku\n",
    "\n",
    "liczby = [ 3, -5 , 2 , 3]\n",
    "\n",
    "f = open(\"output.txt\", \"w\")\n",
    "f.write(\"Oto liczby:\\n\")\n",
    "for x in liczby:\n",
    "    f.write('%.3f\\n' % x)\n",
    "f.close()\n",
    "\n",
    "# !ls -l"
   ]
  },
  {
   "cell_type": "markdown",
   "metadata": {
    "slideshow": {
     "slide_type": "slide"
    }
   },
   "source": [
    "## Zadanie 1\n",
    "\n",
    "\n",
    "Napisz program, który wypisze unikatowe wartości liczbowe z pliku `dane/liczby.txt` oraz ilość wystapień każdej z tych wartości. \n",
    "\n",
    "Przykładowy wynik działania (pierwsza kolumna to elementy, druga - ilość wystąpień):\n",
    "```\n",
    "1    3\n",
    "4    6\n",
    "2    1\n",
    "...\n",
    "```\n",
    "\n",
    "Rozwiązanie umieść w notatniku poniżej. Zapisz notatniki i prześlij za pomocą Moodle pod adresem https://moodle.umk.pl/WFAIIS/mod/assign/view.php?id=1752\n"
   ]
  },
  {
   "cell_type": "code",
   "execution_count": null,
   "metadata": {
    "ExecuteTime": {
     "end_time": "2022-03-07T16:59:00.618531Z",
     "start_time": "2022-03-07T16:59:00.610340Z"
    }
   },
   "outputs": [],
   "source": [
    "\n",
    "\n",
    "\n"
   ]
  }
 ],
 "metadata": {
  "kernelspec": {
   "display_name": "Python 3",
   "language": "python",
   "name": "python3"
  },
  "language_info": {
   "codemirror_mode": {
    "name": "ipython",
    "version": 3
   },
   "file_extension": ".py",
   "mimetype": "text/x-python",
   "name": "python",
   "nbconvert_exporter": "python",
   "pygments_lexer": "ipython3",
   "version": "3.7.4"
  },
  "toc": {
   "base_numbering": 1,
   "nav_menu": {},
   "number_sections": true,
   "sideBar": true,
   "skip_h1_title": false,
   "title_cell": "Table of Contents",
   "title_sidebar": "Contents",
   "toc_cell": false,
   "toc_position": {},
   "toc_section_display": true,
   "toc_window_display": false
  },
  "varInspector": {
   "cols": {
    "lenName": 16,
    "lenType": 16,
    "lenVar": 40
   },
   "kernels_config": {
    "python": {
     "delete_cmd_postfix": "",
     "delete_cmd_prefix": "del ",
     "library": "var_list.py",
     "varRefreshCmd": "print(var_dic_list())"
    },
    "r": {
     "delete_cmd_postfix": ") ",
     "delete_cmd_prefix": "rm(",
     "library": "var_list.r",
     "varRefreshCmd": "cat(var_dic_list()) "
    }
   },
   "types_to_exclude": [
    "module",
    "function",
    "builtin_function_or_method",
    "instance",
    "_Feature"
   ],
   "window_display": false
  }
 },
 "nbformat": 4,
 "nbformat_minor": 4
}
